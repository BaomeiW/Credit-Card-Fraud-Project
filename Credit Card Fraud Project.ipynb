{
 "cells": [
  {
   "cell_type": "markdown",
   "metadata": {},
   "source": [
    "### 1 Import the data file\n",
    "#### 1.1 Load the txt file with json format:\n",
    "This data, which is in line-delimited JSON format, can be found at https://github.com/CapitalOneRecruiting/DS"
   ]
  },
  {
   "cell_type": "code",
   "execution_count": 1,
   "metadata": {},
   "outputs": [],
   "source": [
    "from pyspark.sql import SparkSession\n",
    "spark = SparkSession.builder.appName('credit').getOrCreate()"
   ]
  },
  {
   "cell_type": "code",
   "execution_count": 2,
   "metadata": {},
   "outputs": [],
   "source": [
    "data = spark.read.json(r\"C:\\Users\\bnmwe\\Desktop\\Python-and-Spark-for-Big-Data-master\\project\\transactions.txt\")"
   ]
  },
  {
   "cell_type": "code",
   "execution_count": 3,
   "metadata": {},
   "outputs": [
    {
     "name": "stdout",
     "output_type": "stream",
     "text": [
      "786363 29\n"
     ]
    }
   ],
   "source": [
    "print(data.count(), len(data.columns))"
   ]
  },
  {
   "cell_type": "markdown",
   "metadata": {},
   "source": [
    "Take a glimpse on the data:"
   ]
  },
  {
   "cell_type": "code",
   "execution_count": 4,
   "metadata": {},
   "outputs": [
    {
     "data": {
      "text/html": [
       "<div>\n",
       "<style scoped>\n",
       "    .dataframe tbody tr th:only-of-type {\n",
       "        vertical-align: middle;\n",
       "    }\n",
       "\n",
       "    .dataframe tbody tr th {\n",
       "        vertical-align: top;\n",
       "    }\n",
       "\n",
       "    .dataframe thead th {\n",
       "        text-align: right;\n",
       "    }\n",
       "</style>\n",
       "<table border=\"1\" class=\"dataframe\">\n",
       "  <thead>\n",
       "    <tr style=\"text-align: right;\">\n",
       "      <th></th>\n",
       "      <th>0</th>\n",
       "      <th>1</th>\n",
       "      <th>2</th>\n",
       "      <th>3</th>\n",
       "      <th>4</th>\n",
       "    </tr>\n",
       "  </thead>\n",
       "  <tbody>\n",
       "    <tr>\n",
       "      <th>accountNumber</th>\n",
       "      <td>737265056</td>\n",
       "      <td>737265056</td>\n",
       "      <td>737265056</td>\n",
       "      <td>737265056</td>\n",
       "      <td>830329091</td>\n",
       "    </tr>\n",
       "    <tr>\n",
       "      <th>accountOpenDate</th>\n",
       "      <td>2015-03-14</td>\n",
       "      <td>2015-03-14</td>\n",
       "      <td>2015-03-14</td>\n",
       "      <td>2015-03-14</td>\n",
       "      <td>2015-08-06</td>\n",
       "    </tr>\n",
       "    <tr>\n",
       "      <th>acqCountry</th>\n",
       "      <td>US</td>\n",
       "      <td>US</td>\n",
       "      <td>US</td>\n",
       "      <td>US</td>\n",
       "      <td>US</td>\n",
       "    </tr>\n",
       "    <tr>\n",
       "      <th>availableMoney</th>\n",
       "      <td>5000</td>\n",
       "      <td>5000</td>\n",
       "      <td>5000</td>\n",
       "      <td>5000</td>\n",
       "      <td>5000</td>\n",
       "    </tr>\n",
       "    <tr>\n",
       "      <th>cardCVV</th>\n",
       "      <td>414</td>\n",
       "      <td>486</td>\n",
       "      <td>486</td>\n",
       "      <td>486</td>\n",
       "      <td>885</td>\n",
       "    </tr>\n",
       "    <tr>\n",
       "      <th>cardLast4Digits</th>\n",
       "      <td>1803</td>\n",
       "      <td>767</td>\n",
       "      <td>767</td>\n",
       "      <td>767</td>\n",
       "      <td>3143</td>\n",
       "    </tr>\n",
       "    <tr>\n",
       "      <th>cardPresent</th>\n",
       "      <td>False</td>\n",
       "      <td>True</td>\n",
       "      <td>False</td>\n",
       "      <td>False</td>\n",
       "      <td>True</td>\n",
       "    </tr>\n",
       "    <tr>\n",
       "      <th>creditLimit</th>\n",
       "      <td>5000</td>\n",
       "      <td>5000</td>\n",
       "      <td>5000</td>\n",
       "      <td>5000</td>\n",
       "      <td>5000</td>\n",
       "    </tr>\n",
       "    <tr>\n",
       "      <th>currentBalance</th>\n",
       "      <td>0</td>\n",
       "      <td>0</td>\n",
       "      <td>0</td>\n",
       "      <td>0</td>\n",
       "      <td>0</td>\n",
       "    </tr>\n",
       "    <tr>\n",
       "      <th>currentExpDate</th>\n",
       "      <td>06/2023</td>\n",
       "      <td>02/2024</td>\n",
       "      <td>08/2025</td>\n",
       "      <td>08/2025</td>\n",
       "      <td>10/2029</td>\n",
       "    </tr>\n",
       "    <tr>\n",
       "      <th>customerId</th>\n",
       "      <td>737265056</td>\n",
       "      <td>737265056</td>\n",
       "      <td>737265056</td>\n",
       "      <td>737265056</td>\n",
       "      <td>830329091</td>\n",
       "    </tr>\n",
       "    <tr>\n",
       "      <th>dateOfLastAddressChange</th>\n",
       "      <td>2015-03-14</td>\n",
       "      <td>2015-03-14</td>\n",
       "      <td>2015-03-14</td>\n",
       "      <td>2015-03-14</td>\n",
       "      <td>2015-08-06</td>\n",
       "    </tr>\n",
       "    <tr>\n",
       "      <th>echoBuffer</th>\n",
       "      <td></td>\n",
       "      <td></td>\n",
       "      <td></td>\n",
       "      <td></td>\n",
       "      <td></td>\n",
       "    </tr>\n",
       "    <tr>\n",
       "      <th>enteredCVV</th>\n",
       "      <td>414</td>\n",
       "      <td>486</td>\n",
       "      <td>486</td>\n",
       "      <td>486</td>\n",
       "      <td>885</td>\n",
       "    </tr>\n",
       "    <tr>\n",
       "      <th>expirationDateKeyInMatch</th>\n",
       "      <td>False</td>\n",
       "      <td>False</td>\n",
       "      <td>False</td>\n",
       "      <td>False</td>\n",
       "      <td>False</td>\n",
       "    </tr>\n",
       "    <tr>\n",
       "      <th>isFraud</th>\n",
       "      <td>False</td>\n",
       "      <td>False</td>\n",
       "      <td>False</td>\n",
       "      <td>False</td>\n",
       "      <td>False</td>\n",
       "    </tr>\n",
       "    <tr>\n",
       "      <th>merchantCategoryCode</th>\n",
       "      <td>rideshare</td>\n",
       "      <td>entertainment</td>\n",
       "      <td>mobileapps</td>\n",
       "      <td>mobileapps</td>\n",
       "      <td>fastfood</td>\n",
       "    </tr>\n",
       "    <tr>\n",
       "      <th>merchantCity</th>\n",
       "      <td></td>\n",
       "      <td></td>\n",
       "      <td></td>\n",
       "      <td></td>\n",
       "      <td></td>\n",
       "    </tr>\n",
       "    <tr>\n",
       "      <th>merchantCountryCode</th>\n",
       "      <td>US</td>\n",
       "      <td>US</td>\n",
       "      <td>US</td>\n",
       "      <td>US</td>\n",
       "      <td>US</td>\n",
       "    </tr>\n",
       "    <tr>\n",
       "      <th>merchantName</th>\n",
       "      <td>Uber</td>\n",
       "      <td>AMC #191138</td>\n",
       "      <td>Play Store</td>\n",
       "      <td>Play Store</td>\n",
       "      <td>Tim Hortons #947751</td>\n",
       "    </tr>\n",
       "    <tr>\n",
       "      <th>merchantState</th>\n",
       "      <td></td>\n",
       "      <td></td>\n",
       "      <td></td>\n",
       "      <td></td>\n",
       "      <td></td>\n",
       "    </tr>\n",
       "    <tr>\n",
       "      <th>merchantZip</th>\n",
       "      <td></td>\n",
       "      <td></td>\n",
       "      <td></td>\n",
       "      <td></td>\n",
       "      <td></td>\n",
       "    </tr>\n",
       "    <tr>\n",
       "      <th>posConditionCode</th>\n",
       "      <td>01</td>\n",
       "      <td>01</td>\n",
       "      <td>01</td>\n",
       "      <td>01</td>\n",
       "      <td>01</td>\n",
       "    </tr>\n",
       "    <tr>\n",
       "      <th>posEntryMode</th>\n",
       "      <td>02</td>\n",
       "      <td>09</td>\n",
       "      <td>09</td>\n",
       "      <td>09</td>\n",
       "      <td>02</td>\n",
       "    </tr>\n",
       "    <tr>\n",
       "      <th>posOnPremises</th>\n",
       "      <td></td>\n",
       "      <td></td>\n",
       "      <td></td>\n",
       "      <td></td>\n",
       "      <td></td>\n",
       "    </tr>\n",
       "    <tr>\n",
       "      <th>recurringAuthInd</th>\n",
       "      <td></td>\n",
       "      <td></td>\n",
       "      <td></td>\n",
       "      <td></td>\n",
       "      <td></td>\n",
       "    </tr>\n",
       "    <tr>\n",
       "      <th>transactionAmount</th>\n",
       "      <td>98.55</td>\n",
       "      <td>74.51</td>\n",
       "      <td>7.47</td>\n",
       "      <td>7.47</td>\n",
       "      <td>71.18</td>\n",
       "    </tr>\n",
       "    <tr>\n",
       "      <th>transactionDateTime</th>\n",
       "      <td>2016-08-13T14:27:32</td>\n",
       "      <td>2016-10-11T05:05:54</td>\n",
       "      <td>2016-11-08T09:18:39</td>\n",
       "      <td>2016-12-10T02:14:50</td>\n",
       "      <td>2016-03-24T21:04:46</td>\n",
       "    </tr>\n",
       "    <tr>\n",
       "      <th>transactionType</th>\n",
       "      <td>PURCHASE</td>\n",
       "      <td>PURCHASE</td>\n",
       "      <td>PURCHASE</td>\n",
       "      <td>PURCHASE</td>\n",
       "      <td>PURCHASE</td>\n",
       "    </tr>\n",
       "  </tbody>\n",
       "</table>\n",
       "</div>"
      ],
      "text/plain": [
       "                                            0                    1  \\\n",
       "accountNumber                       737265056            737265056   \n",
       "accountOpenDate                    2015-03-14           2015-03-14   \n",
       "acqCountry                                 US                   US   \n",
       "availableMoney                           5000                 5000   \n",
       "cardCVV                                   414                  486   \n",
       "cardLast4Digits                          1803                  767   \n",
       "cardPresent                             False                 True   \n",
       "creditLimit                              5000                 5000   \n",
       "currentBalance                              0                    0   \n",
       "currentExpDate                        06/2023              02/2024   \n",
       "customerId                          737265056            737265056   \n",
       "dateOfLastAddressChange            2015-03-14           2015-03-14   \n",
       "echoBuffer                                                           \n",
       "enteredCVV                                414                  486   \n",
       "expirationDateKeyInMatch                False                False   \n",
       "isFraud                                 False                False   \n",
       "merchantCategoryCode                rideshare        entertainment   \n",
       "merchantCity                                                         \n",
       "merchantCountryCode                        US                   US   \n",
       "merchantName                             Uber          AMC #191138   \n",
       "merchantState                                                        \n",
       "merchantZip                                                          \n",
       "posConditionCode                           01                   01   \n",
       "posEntryMode                               02                   09   \n",
       "posOnPremises                                                        \n",
       "recurringAuthInd                                                     \n",
       "transactionAmount                       98.55                74.51   \n",
       "transactionDateTime       2016-08-13T14:27:32  2016-10-11T05:05:54   \n",
       "transactionType                      PURCHASE             PURCHASE   \n",
       "\n",
       "                                            2                    3  \\\n",
       "accountNumber                       737265056            737265056   \n",
       "accountOpenDate                    2015-03-14           2015-03-14   \n",
       "acqCountry                                 US                   US   \n",
       "availableMoney                           5000                 5000   \n",
       "cardCVV                                   486                  486   \n",
       "cardLast4Digits                           767                  767   \n",
       "cardPresent                             False                False   \n",
       "creditLimit                              5000                 5000   \n",
       "currentBalance                              0                    0   \n",
       "currentExpDate                        08/2025              08/2025   \n",
       "customerId                          737265056            737265056   \n",
       "dateOfLastAddressChange            2015-03-14           2015-03-14   \n",
       "echoBuffer                                                           \n",
       "enteredCVV                                486                  486   \n",
       "expirationDateKeyInMatch                False                False   \n",
       "isFraud                                 False                False   \n",
       "merchantCategoryCode               mobileapps           mobileapps   \n",
       "merchantCity                                                         \n",
       "merchantCountryCode                        US                   US   \n",
       "merchantName                       Play Store           Play Store   \n",
       "merchantState                                                        \n",
       "merchantZip                                                          \n",
       "posConditionCode                           01                   01   \n",
       "posEntryMode                               09                   09   \n",
       "posOnPremises                                                        \n",
       "recurringAuthInd                                                     \n",
       "transactionAmount                        7.47                 7.47   \n",
       "transactionDateTime       2016-11-08T09:18:39  2016-12-10T02:14:50   \n",
       "transactionType                      PURCHASE             PURCHASE   \n",
       "\n",
       "                                            4  \n",
       "accountNumber                       830329091  \n",
       "accountOpenDate                    2015-08-06  \n",
       "acqCountry                                 US  \n",
       "availableMoney                           5000  \n",
       "cardCVV                                   885  \n",
       "cardLast4Digits                          3143  \n",
       "cardPresent                              True  \n",
       "creditLimit                              5000  \n",
       "currentBalance                              0  \n",
       "currentExpDate                        10/2029  \n",
       "customerId                          830329091  \n",
       "dateOfLastAddressChange            2015-08-06  \n",
       "echoBuffer                                     \n",
       "enteredCVV                                885  \n",
       "expirationDateKeyInMatch                False  \n",
       "isFraud                                 False  \n",
       "merchantCategoryCode                 fastfood  \n",
       "merchantCity                                   \n",
       "merchantCountryCode                        US  \n",
       "merchantName              Tim Hortons #947751  \n",
       "merchantState                                  \n",
       "merchantZip                                    \n",
       "posConditionCode                           01  \n",
       "posEntryMode                               02  \n",
       "posOnPremises                                  \n",
       "recurringAuthInd                               \n",
       "transactionAmount                       71.18  \n",
       "transactionDateTime       2016-03-24T21:04:46  \n",
       "transactionType                      PURCHASE  "
      ]
     },
     "execution_count": 4,
     "metadata": {},
     "output_type": "execute_result"
    }
   ],
   "source": [
    "import pandas as pd\n",
    "pd.DataFrame(data.take(5), columns=data.columns).transpose()"
   ]
  },
  {
   "cell_type": "code",
   "execution_count": 5,
   "metadata": {},
   "outputs": [
    {
     "name": "stdout",
     "output_type": "stream",
     "text": [
      "Row(accountNumber='737265056', accountOpenDate='2015-03-14', acqCountry='US', availableMoney=5000.0, cardCVV='414', cardLast4Digits='1803', cardPresent=False, creditLimit=5000.0, currentBalance=0.0, currentExpDate='06/2023', customerId='737265056', dateOfLastAddressChange='2015-03-14', echoBuffer='', enteredCVV='414', expirationDateKeyInMatch=False, isFraud=False, merchantCategoryCode='rideshare', merchantCity='', merchantCountryCode='US', merchantName='Uber', merchantState='', merchantZip='', posConditionCode='01', posEntryMode='02', posOnPremises='', recurringAuthInd='', transactionAmount=98.55, transactionDateTime='2016-08-13T14:27:32', transactionType='PURCHASE')\n",
      "\n",
      "\n",
      "Row(accountNumber='737265056', accountOpenDate='2015-03-14', acqCountry='US', availableMoney=5000.0, cardCVV='486', cardLast4Digits='767', cardPresent=True, creditLimit=5000.0, currentBalance=0.0, currentExpDate='02/2024', customerId='737265056', dateOfLastAddressChange='2015-03-14', echoBuffer='', enteredCVV='486', expirationDateKeyInMatch=False, isFraud=False, merchantCategoryCode='entertainment', merchantCity='', merchantCountryCode='US', merchantName='AMC #191138', merchantState='', merchantZip='', posConditionCode='01', posEntryMode='09', posOnPremises='', recurringAuthInd='', transactionAmount=74.51, transactionDateTime='2016-10-11T05:05:54', transactionType='PURCHASE')\n",
      "\n",
      "\n"
     ]
    }
   ],
   "source": [
    "for item in data.head(2):\n",
    "    print(item)\n",
    "    print('\\n')"
   ]
  },
  {
   "cell_type": "code",
   "execution_count": 6,
   "metadata": {},
   "outputs": [
    {
     "name": "stdout",
     "output_type": "stream",
     "text": [
      "root\n",
      " |-- accountNumber: string (nullable = true)\n",
      " |-- accountOpenDate: string (nullable = true)\n",
      " |-- acqCountry: string (nullable = true)\n",
      " |-- availableMoney: double (nullable = true)\n",
      " |-- cardCVV: string (nullable = true)\n",
      " |-- cardLast4Digits: string (nullable = true)\n",
      " |-- cardPresent: boolean (nullable = true)\n",
      " |-- creditLimit: double (nullable = true)\n",
      " |-- currentBalance: double (nullable = true)\n",
      " |-- currentExpDate: string (nullable = true)\n",
      " |-- customerId: string (nullable = true)\n",
      " |-- dateOfLastAddressChange: string (nullable = true)\n",
      " |-- echoBuffer: string (nullable = true)\n",
      " |-- enteredCVV: string (nullable = true)\n",
      " |-- expirationDateKeyInMatch: boolean (nullable = true)\n",
      " |-- isFraud: boolean (nullable = true)\n",
      " |-- merchantCategoryCode: string (nullable = true)\n",
      " |-- merchantCity: string (nullable = true)\n",
      " |-- merchantCountryCode: string (nullable = true)\n",
      " |-- merchantName: string (nullable = true)\n",
      " |-- merchantState: string (nullable = true)\n",
      " |-- merchantZip: string (nullable = true)\n",
      " |-- posConditionCode: string (nullable = true)\n",
      " |-- posEntryMode: string (nullable = true)\n",
      " |-- posOnPremises: string (nullable = true)\n",
      " |-- recurringAuthInd: string (nullable = true)\n",
      " |-- transactionAmount: double (nullable = true)\n",
      " |-- transactionDateTime: string (nullable = true)\n",
      " |-- transactionType: string (nullable = true)\n",
      "\n"
     ]
    }
   ],
   "source": [
    "data.printSchema()"
   ]
  },
  {
   "cell_type": "markdown",
   "metadata": {},
   "source": [
    "#### 1.2 Cast data type:"
   ]
  },
  {
   "cell_type": "code",
   "execution_count": 7,
   "metadata": {},
   "outputs": [],
   "source": [
    "from pyspark.sql.types import IntegerType, DoubleType, DateType\n",
    "from pyspark.sql.functions import to_date, to_timestamp\n",
    "from pyspark.sql import functions as F\n",
    "from pyspark.sql.functions import col, countDistinct"
   ]
  },
  {
   "cell_type": "code",
   "execution_count": 8,
   "metadata": {},
   "outputs": [],
   "source": [
    "for column in ['accountNumber', 'cardCVV', 'cardLast4Digits', 'enteredCVV']:\n",
    "    data = data.withColumn(column, data[column].cast(IntegerType())) "
   ]
  },
  {
   "cell_type": "code",
   "execution_count": 9,
   "metadata": {},
   "outputs": [],
   "source": [
    "for column in ['accountOpenDate', 'dateOfLastAddressChange']:\n",
    "    data = data.withColumn(column, F.to_date(data[column], 'yyyy-MM-dd'))"
   ]
  },
  {
   "cell_type": "code",
   "execution_count": 10,
   "metadata": {},
   "outputs": [],
   "source": [
    "for column in ['currentExpDate']:\n",
    "    data = data.withColumn(column, F.to_date(data[column], 'MM/yyyy'))"
   ]
  },
  {
   "cell_type": "code",
   "execution_count": 11,
   "metadata": {},
   "outputs": [],
   "source": [
    "for column in ['transactionDateTime']:\n",
    "    data = data.withColumn(column, F.to_timestamp(data[column], \"yyyy-MM-dd'T'HH:mm:ss\"))"
   ]
  },
  {
   "cell_type": "code",
   "execution_count": 12,
   "metadata": {},
   "outputs": [
    {
     "data": {
      "text/plain": [
       "[('accountNumber', 'int'),\n",
       " ('accountOpenDate', 'date'),\n",
       " ('acqCountry', 'string'),\n",
       " ('availableMoney', 'double'),\n",
       " ('cardCVV', 'int'),\n",
       " ('cardLast4Digits', 'int'),\n",
       " ('cardPresent', 'boolean'),\n",
       " ('creditLimit', 'double'),\n",
       " ('currentBalance', 'double'),\n",
       " ('currentExpDate', 'date'),\n",
       " ('customerId', 'string'),\n",
       " ('dateOfLastAddressChange', 'date'),\n",
       " ('echoBuffer', 'string'),\n",
       " ('enteredCVV', 'int'),\n",
       " ('expirationDateKeyInMatch', 'boolean'),\n",
       " ('isFraud', 'boolean'),\n",
       " ('merchantCategoryCode', 'string'),\n",
       " ('merchantCity', 'string'),\n",
       " ('merchantCountryCode', 'string'),\n",
       " ('merchantName', 'string'),\n",
       " ('merchantState', 'string'),\n",
       " ('merchantZip', 'string'),\n",
       " ('posConditionCode', 'string'),\n",
       " ('posEntryMode', 'string'),\n",
       " ('posOnPremises', 'string'),\n",
       " ('recurringAuthInd', 'string'),\n",
       " ('transactionAmount', 'double'),\n",
       " ('transactionDateTime', 'timestamp'),\n",
       " ('transactionType', 'string')]"
      ]
     },
     "execution_count": 12,
     "metadata": {},
     "output_type": "execute_result"
    }
   ],
   "source": [
    "data.dtypes"
   ]
  },
  {
   "cell_type": "markdown",
   "metadata": {},
   "source": [
    "Data distinct count:"
   ]
  },
  {
   "cell_type": "code",
   "execution_count": 13,
   "metadata": {},
   "outputs": [
    {
     "data": {
      "text/html": [
       "<div>\n",
       "<style scoped>\n",
       "    .dataframe tbody tr th:only-of-type {\n",
       "        vertical-align: middle;\n",
       "    }\n",
       "\n",
       "    .dataframe tbody tr th {\n",
       "        vertical-align: top;\n",
       "    }\n",
       "\n",
       "    .dataframe thead th {\n",
       "        text-align: right;\n",
       "    }\n",
       "</style>\n",
       "<table border=\"1\" class=\"dataframe\">\n",
       "  <thead>\n",
       "    <tr style=\"text-align: right;\">\n",
       "      <th></th>\n",
       "      <th>0</th>\n",
       "    </tr>\n",
       "  </thead>\n",
       "  <tbody>\n",
       "    <tr>\n",
       "      <th>accountNumber</th>\n",
       "      <td>5000</td>\n",
       "    </tr>\n",
       "    <tr>\n",
       "      <th>accountOpenDate</th>\n",
       "      <td>1820</td>\n",
       "    </tr>\n",
       "    <tr>\n",
       "      <th>acqCountry</th>\n",
       "      <td>5</td>\n",
       "    </tr>\n",
       "    <tr>\n",
       "      <th>availableMoney</th>\n",
       "      <td>521916</td>\n",
       "    </tr>\n",
       "    <tr>\n",
       "      <th>cardCVV</th>\n",
       "      <td>899</td>\n",
       "    </tr>\n",
       "    <tr>\n",
       "      <th>cardLast4Digits</th>\n",
       "      <td>5245</td>\n",
       "    </tr>\n",
       "    <tr>\n",
       "      <th>cardPresent</th>\n",
       "      <td>2</td>\n",
       "    </tr>\n",
       "    <tr>\n",
       "      <th>creditLimit</th>\n",
       "      <td>10</td>\n",
       "    </tr>\n",
       "    <tr>\n",
       "      <th>currentBalance</th>\n",
       "      <td>487318</td>\n",
       "    </tr>\n",
       "    <tr>\n",
       "      <th>currentExpDate</th>\n",
       "      <td>165</td>\n",
       "    </tr>\n",
       "    <tr>\n",
       "      <th>customerId</th>\n",
       "      <td>5000</td>\n",
       "    </tr>\n",
       "    <tr>\n",
       "      <th>dateOfLastAddressChange</th>\n",
       "      <td>2184</td>\n",
       "    </tr>\n",
       "    <tr>\n",
       "      <th>echoBuffer</th>\n",
       "      <td>1</td>\n",
       "    </tr>\n",
       "    <tr>\n",
       "      <th>enteredCVV</th>\n",
       "      <td>976</td>\n",
       "    </tr>\n",
       "    <tr>\n",
       "      <th>expirationDateKeyInMatch</th>\n",
       "      <td>2</td>\n",
       "    </tr>\n",
       "    <tr>\n",
       "      <th>isFraud</th>\n",
       "      <td>2</td>\n",
       "    </tr>\n",
       "    <tr>\n",
       "      <th>merchantCategoryCode</th>\n",
       "      <td>19</td>\n",
       "    </tr>\n",
       "    <tr>\n",
       "      <th>merchantCity</th>\n",
       "      <td>1</td>\n",
       "    </tr>\n",
       "    <tr>\n",
       "      <th>merchantCountryCode</th>\n",
       "      <td>5</td>\n",
       "    </tr>\n",
       "    <tr>\n",
       "      <th>merchantName</th>\n",
       "      <td>2490</td>\n",
       "    </tr>\n",
       "    <tr>\n",
       "      <th>merchantState</th>\n",
       "      <td>1</td>\n",
       "    </tr>\n",
       "    <tr>\n",
       "      <th>merchantZip</th>\n",
       "      <td>1</td>\n",
       "    </tr>\n",
       "    <tr>\n",
       "      <th>posConditionCode</th>\n",
       "      <td>4</td>\n",
       "    </tr>\n",
       "    <tr>\n",
       "      <th>posEntryMode</th>\n",
       "      <td>6</td>\n",
       "    </tr>\n",
       "    <tr>\n",
       "      <th>posOnPremises</th>\n",
       "      <td>1</td>\n",
       "    </tr>\n",
       "    <tr>\n",
       "      <th>recurringAuthInd</th>\n",
       "      <td>1</td>\n",
       "    </tr>\n",
       "    <tr>\n",
       "      <th>transactionAmount</th>\n",
       "      <td>66038</td>\n",
       "    </tr>\n",
       "    <tr>\n",
       "      <th>transactionDateTime</th>\n",
       "      <td>776558</td>\n",
       "    </tr>\n",
       "    <tr>\n",
       "      <th>transactionType</th>\n",
       "      <td>4</td>\n",
       "    </tr>\n",
       "  </tbody>\n",
       "</table>\n",
       "</div>"
      ],
      "text/plain": [
       "                               0\n",
       "accountNumber               5000\n",
       "accountOpenDate             1820\n",
       "acqCountry                     5\n",
       "availableMoney            521916\n",
       "cardCVV                      899\n",
       "cardLast4Digits             5245\n",
       "cardPresent                    2\n",
       "creditLimit                   10\n",
       "currentBalance            487318\n",
       "currentExpDate               165\n",
       "customerId                  5000\n",
       "dateOfLastAddressChange     2184\n",
       "echoBuffer                     1\n",
       "enteredCVV                   976\n",
       "expirationDateKeyInMatch       2\n",
       "isFraud                        2\n",
       "merchantCategoryCode          19\n",
       "merchantCity                   1\n",
       "merchantCountryCode            5\n",
       "merchantName                2490\n",
       "merchantState                  1\n",
       "merchantZip                    1\n",
       "posConditionCode               4\n",
       "posEntryMode                   6\n",
       "posOnPremises                  1\n",
       "recurringAuthInd               1\n",
       "transactionAmount          66038\n",
       "transactionDateTime       776558\n",
       "transactionType                4"
      ]
     },
     "execution_count": 13,
     "metadata": {},
     "output_type": "execute_result"
    }
   ],
   "source": [
    "# show distinct counts for each column\n",
    "data.select(* (countDistinct(column).alias(column) for column in data.columns)).toPandas().transpose()"
   ]
  },
  {
   "cell_type": "markdown",
   "metadata": {},
   "source": [
    "### 2 Clean data\n",
    "The purpose of data cleaning is to check if there is any invalid or missing values, and eliminate those reords. It seems all the Null values are stored as empty strings. We will replace them with None and check their statistic.\n",
    "#### 2.1 Check the null values:  \n"
   ]
  },
  {
   "cell_type": "code",
   "execution_count": 14,
   "metadata": {},
   "outputs": [],
   "source": [
    "data = data.replace(\"\", None)"
   ]
  },
  {
   "cell_type": "code",
   "execution_count": 15,
   "metadata": {},
   "outputs": [
    {
     "name": "stdout",
     "output_type": "stream",
     "text": [
      "accountNumber: 0\n",
      "accountOpenDate: 0\n",
      "acqCountry: 4562\n",
      "availableMoney: 0\n",
      "cardCVV: 0\n",
      "cardLast4Digits: 0\n",
      "cardPresent: 0\n",
      "creditLimit: 0\n",
      "currentBalance: 0\n",
      "currentExpDate: 0\n",
      "customerId: 0\n",
      "dateOfLastAddressChange: 0\n",
      "echoBuffer: 786363\n",
      "enteredCVV: 0\n",
      "expirationDateKeyInMatch: 0\n",
      "isFraud: 0\n",
      "merchantCategoryCode: 0\n",
      "merchantCity: 786363\n",
      "merchantCountryCode: 724\n",
      "merchantName: 0\n",
      "merchantState: 786363\n",
      "merchantZip: 786363\n",
      "posConditionCode: 409\n",
      "posEntryMode: 4054\n",
      "posOnPremises: 786363\n",
      "recurringAuthInd: 786363\n",
      "transactionAmount: 0\n",
      "transactionDateTime: 79\n",
      "transactionType: 698\n"
     ]
    }
   ],
   "source": [
    "for column in data.columns:\n",
    "    print(column + \": \" + str(data.filter(data[column].isNull()).count()))"
   ]
  },
  {
   "cell_type": "markdown",
   "metadata": {},
   "source": [
    "Drop columns with all null values："
   ]
  },
  {
   "cell_type": "code",
   "execution_count": 16,
   "metadata": {},
   "outputs": [
    {
     "name": "stdout",
     "output_type": "stream",
     "text": [
      "23\n"
     ]
    }
   ],
   "source": [
    "null_cols = ['echoBuffer', 'merchantCity', 'merchantState', 'merchantZip', 'posOnPremises', 'recurringAuthInd' ]\n",
    "data = data.drop(*null_cols)\n",
    "print(len(data.columns))"
   ]
  },
  {
   "cell_type": "markdown",
   "metadata": {},
   "source": [
    "Drop rows with null values："
   ]
  },
  {
   "cell_type": "code",
   "execution_count": 17,
   "metadata": {},
   "outputs": [],
   "source": [
    "data = data.filter(data['posConditionCode'].isNotNull() & data['posEntryMode'].isNotNull() & \n",
    "                   data['transactionType'].isNotNull() & data['merchantCountryCode'].isNotNull() & \n",
    "                   data['acqCountry'].isNotNull() & data['transactionDateTime'].isNotNull())\n",
    "\n",
    "# https://sparkbyexamples.com/spark/spark-dataframe-drop-rows-with-null-values/"
   ]
  },
  {
   "cell_type": "markdown",
   "metadata": {},
   "source": [
    "### 3 Summary statistics for features"
   ]
  },
  {
   "cell_type": "code",
   "execution_count": 18,
   "metadata": {},
   "outputs": [
    {
     "name": "stdout",
     "output_type": "stream",
     "text": [
      "+-------+-----------------+------------------+-----------------+------------------+\n",
      "|summary|   availableMoney|       creditLimit|   currentBalance| transactionAmount|\n",
      "+-------+-----------------+------------------+-----------------+------------------+\n",
      "|  count|           776589|            776589|           776589|            776589|\n",
      "|   mean|6247.687344399638|10756.374027960735|4508.686683561073|136.97425724546807|\n",
      "| stddev|8873.961393399715|11631.556271415433|6457.442291671901|147.69897004209136|\n",
      "|    min|         -1005.63|             250.0|              0.0|               0.0|\n",
      "|    max|          50000.0|           50000.0|         47498.81|           2011.54|\n",
      "+-------+-----------------+------------------+-----------------+------------------+\n",
      "\n"
     ]
    }
   ],
   "source": [
    "continous_columns = ['availableMoney','creditLimit','currentBalance','transactionAmount']\n",
    "data.select(continous_columns).describe().show()"
   ]
  },
  {
   "cell_type": "code",
   "execution_count": 19,
   "metadata": {},
   "outputs": [
    {
     "name": "stdout",
     "output_type": "stream",
     "text": [
      "+-------+-----------------+\n",
      "|summary|transactionAmount|\n",
      "+-------+-----------------+\n",
      "|  count|            11965|\n",
      "|   mean|224.7734625992477|\n",
      "| stddev|189.3241167493438|\n",
      "|    min|              0.0|\n",
      "|    max|          1608.35|\n",
      "+-------+-----------------+\n",
      "\n"
     ]
    }
   ],
   "source": [
    "# Statistics of fraudulent transaction amounts\n",
    "data_fraud = data.filter(data.isFraud == True)\n",
    "data_fraud.describe('transactionAmount').show()"
   ]
  },
  {
   "cell_type": "code",
   "execution_count": 20,
   "metadata": {},
   "outputs": [
    {
     "name": "stdout",
     "output_type": "stream",
     "text": [
      "+--------------------+-----+\n",
      "|     transactionType|count|\n",
      "+--------------------+-----+\n",
      "|            REVERSAL|  324|\n",
      "|            PURCHASE|11527|\n",
      "|ADDRESS_VERIFICATION|  114|\n",
      "+--------------------+-----+\n",
      "\n"
     ]
    }
   ],
   "source": [
    "#Types of the fraudulent transactions\n",
    "data_fraud.groupBy(data_fraud['transactionType']).count().show()"
   ]
  },
  {
   "cell_type": "code",
   "execution_count": 21,
   "metadata": {},
   "outputs": [
    {
     "name": "stdout",
     "output_type": "stream",
     "text": [
      "+-------------+-----+\n",
      "|accountNumber|count|\n",
      "+-------------+-----+\n",
      "|    181831477|   41|\n",
      "|    110625245|    3|\n",
      "|    668920668|   35|\n",
      "|    201956682|   13|\n",
      "|    800749810|    4|\n",
      "+-------------+-----+\n",
      "only showing top 5 rows\n",
      "\n",
      "+----------+------+\n",
      "|acqCountry| count|\n",
      "+----------+------+\n",
      "|       MEX|  3110|\n",
      "|        US|769541|\n",
      "|       CAN|  2406|\n",
      "|        PR|  1532|\n",
      "+----------+------+\n",
      "\n",
      "+-------+-----+\n",
      "|cardCVV|count|\n",
      "+-------+-----+\n",
      "|    148|  290|\n",
      "|    463|  499|\n",
      "|    496| 1616|\n",
      "|    833|  875|\n",
      "|    471|  446|\n",
      "+-------+-----+\n",
      "only showing top 5 rows\n",
      "\n",
      "+---------------+-----+\n",
      "|cardLast4Digits|count|\n",
      "+---------------+-----+\n",
      "|           5156|  135|\n",
      "|           6397|   25|\n",
      "|            471|    1|\n",
      "|           1238|   22|\n",
      "|           7754|   18|\n",
      "+---------------+-----+\n",
      "only showing top 5 rows\n",
      "\n",
      "+-----------+------+\n",
      "|cardPresent| count|\n",
      "+-----------+------+\n",
      "|       true|348471|\n",
      "|      false|428118|\n",
      "+-----------+------+\n",
      "\n",
      "+----------+-----+\n",
      "|customerId|count|\n",
      "+----------+-----+\n",
      "| 371832344|   54|\n",
      "| 230879655|   23|\n",
      "| 522549061|   39|\n",
      "| 467764103|   30|\n",
      "| 213703023|   55|\n",
      "+----------+-----+\n",
      "only showing top 5 rows\n",
      "\n",
      "+----------+-----+\n",
      "|enteredCVV|count|\n",
      "+----------+-----+\n",
      "|       148|  298|\n",
      "|       463|  499|\n",
      "|       833|  874|\n",
      "|       496| 1611|\n",
      "|       471|  448|\n",
      "+----------+-----+\n",
      "only showing top 5 rows\n",
      "\n",
      "+------------------------+------+\n",
      "|expirationDateKeyInMatch| count|\n",
      "+------------------------+------+\n",
      "|                    true|  1025|\n",
      "|                   false|775564|\n",
      "+------------------------+------+\n",
      "\n",
      "+-------+------+\n",
      "|isFraud| count|\n",
      "+-------+------+\n",
      "|   true| 11965|\n",
      "|  false|764624|\n",
      "+-------+------+\n",
      "\n",
      "+--------------------+-----+\n",
      "|merchantCategoryCode|count|\n",
      "+--------------------+-----+\n",
      "|              hotels|33667|\n",
      "|online_subscriptions|10928|\n",
      "|                auto|21344|\n",
      "|       food_delivery| 6000|\n",
      "|           rideshare|50503|\n",
      "+--------------------+-----+\n",
      "only showing top 5 rows\n",
      "\n",
      "+----------------+------+\n",
      "|posConditionCode| count|\n",
      "+----------------+------+\n",
      "|              01|621214|\n",
      "|              99|  7415|\n",
      "|              08|147960|\n",
      "+----------------+------+\n",
      "\n",
      "+------------+------+\n",
      "|posEntryMode| count|\n",
      "+------------+------+\n",
      "|          09|234757|\n",
      "|          05|312682|\n",
      "|          90| 19435|\n",
      "|          02|194528|\n",
      "|          80| 15187|\n",
      "+------------+------+\n",
      "\n",
      "+--------------------+------+\n",
      "|     transactionType| count|\n",
      "+--------------------+------+\n",
      "|            REVERSAL| 20061|\n",
      "|            PURCHASE|736559|\n",
      "|ADDRESS_VERIFICATION| 19969|\n",
      "+--------------------+------+\n",
      "\n"
     ]
    }
   ],
   "source": [
    "categorical_columns =  ['accountNumber', 'acqCountry', 'cardCVV', 'cardLast4Digits', 'cardPresent', 'customerId', 'enteredCVV',\n",
    "                        'expirationDateKeyInMatch', 'isFraud', 'merchantCategoryCode', 'posConditionCode','posEntryMode',\n",
    "                        'transactionType']\n",
    "for column in categorical_columns:\n",
    "    data.groupBy(column).count().show(5)"
   ]
  },
  {
   "cell_type": "markdown",
   "metadata": {},
   "source": [
    "### 4 univariate analysis on continous variables\n",
    "plot histograms of the transaction amount, available money and current balance"
   ]
  },
  {
   "cell_type": "code",
   "execution_count": 22,
   "metadata": {},
   "outputs": [],
   "source": [
    "%matplotlib inline\n",
    "import matplotlib.pyplot as plt\n",
    "import pandas as pd\n",
    "import seaborn as sns\n",
    "sns.set() # Setting seaborn as default style even if use only matplotlib"
   ]
  },
  {
   "cell_type": "code",
   "execution_count": 23,
   "metadata": {},
   "outputs": [
    {
     "data": {
      "text/plain": [
       "<matplotlib.axes._subplots.AxesSubplot at 0x17a0dd30f48>"
      ]
     },
     "execution_count": 23,
     "metadata": {},
     "output_type": "execute_result"
    },
    {
     "data": {
      "image/png": "[encoded data removed]",
      "text/plain": [
       "<Figure size 1080x360 with 3 Axes>"
      ]
     },
     "metadata": {},
     "output_type": "display_data"
    }
   ],
   "source": [
    "fig, axes = plt.subplots(1, 3, figsize=(15,5))\n",
    "fig.suptitle('univariate analysis')\n",
    "\n",
    "sns.distplot(data.toPandas()['transactionAmount'], ax = axes[0], color = 'red', kde=False, bins=50)\n",
    "sns.distplot(data.toPandas()['availableMoney'], ax = axes[1], color = 'blue', kde=False, bins=50)\n",
    "sns.distplot(data.toPandas()['currentBalance'], ax = axes[2], color = 'green', kde=False, bins=50)\n"
   ]
  },
  {
   "cell_type": "markdown",
   "metadata": {},
   "source": [
    "Note: There is a big peak near 0 for all of three distribution. The shapes look like a power-law or exponential decay.  "
   ]
  },
  {
   "cell_type": "code",
   "execution_count": 24,
   "metadata": {},
   "outputs": [
    {
     "name": "stdout",
     "output_type": "stream",
     "text": [
      "+-------+------+\n",
      "|isFraud| count|\n",
      "+-------+------+\n",
      "|   true| 11965|\n",
      "|  false|764624|\n",
      "+-------+------+\n",
      "\n"
     ]
    }
   ],
   "source": [
    "#Fraud frequency distribution:\n",
    "Fraud_Freq = data.groupBy('isFraud').count()\n",
    "Fraud_Freq.show()"
   ]
  },
  {
   "cell_type": "code",
   "execution_count": 25,
   "metadata": {},
   "outputs": [
    {
     "data": {
      "text/plain": [
       "<matplotlib.axes._subplots.AxesSubplot at 0x17a4be491c8>"
      ]
     },
     "execution_count": 25,
     "metadata": {},
     "output_type": "execute_result"
    },
    {
     "data": {
      "image/png": "[encoded data removed]",
      "text/plain": [
       "<Figure size 432x288 with 1 Axes>"
      ]
     },
     "metadata": {},
     "output_type": "display_data"
    }
   ],
   "source": [
    "sns.barplot(data = Fraud_Freq.toPandas(), x = 'isFraud', y = 'count', alpha = 0.5)"
   ]
  },
  {
   "cell_type": "code",
   "execution_count": 26,
   "metadata": {},
   "outputs": [
    {
     "data": {
      "text/plain": [
       "1.5407120111152746"
      ]
     },
     "execution_count": 26,
     "metadata": {},
     "output_type": "execute_result"
    }
   ],
   "source": [
    "fraudRate = data.toPandas()['isFraud'].mean()*100\n",
    "fraudRate"
   ]
  },
  {
   "cell_type": "code",
   "execution_count": 27,
   "metadata": {},
   "outputs": [
    {
     "data": {
      "text/plain": [
       "(23930, 23)"
      ]
     },
     "execution_count": 27,
     "metadata": {},
     "output_type": "execute_result"
    }
   ],
   "source": [
    "# Dealing with imbanance samples:\n",
    "import pandas as pd\n",
    "new_data= data.toPandas()\n",
    "new_data= new_data.sample(frac=1)\n",
    "# amount of fraud classes 492 rows.\n",
    "fraud_df = new_data.loc[new_data['isFraud'] == True]\n",
    "non_fraud_df = new_data.loc[new_data['isFraud'] == False][:11965]\n",
    "normal_distributed_df = pd.concat([fraud_df, non_fraud_df])\n",
    "# Shuffle dataframe rows\n",
    "new_df = normal_distributed_df.sample(frac=1, random_state=42)\n",
    "new_df.shape"
   ]
  },
  {
   "cell_type": "markdown",
   "metadata": {},
   "source": [
    "### 5 Feature engieering\n",
    "#### 5.1 date differance:\n",
    "The difference in dates between two date features can be a more sensitive indicator of a trend that a machine learning model can capture."
   ]
  },
  {
   "cell_type": "code",
   "execution_count": 28,
   "metadata": {},
   "outputs": [],
   "source": [
    "data = spark.createDataFrame(new_df)\n",
    "from pyspark.sql.functions import datediff"
   ]
  },
  {
   "cell_type": "code",
   "execution_count": 29,
   "metadata": {},
   "outputs": [
    {
     "name": "stdout",
     "output_type": "stream",
     "text": [
      "+-------------------+---------------+---------+\n",
      "|transactionDateTime|accountOpenDate|days_diff|\n",
      "+-------------------+---------------+---------+\n",
      "|2016-06-10 16:06:54|     2013-11-24|      929|\n",
      "|2016-03-08 04:38:27|     2015-12-05|       94|\n",
      "|2016-09-22 06:03:13|     2015-01-19|      612|\n",
      "|2016-06-01 18:05:15|     2015-06-19|      348|\n",
      "|2016-08-25 01:49:26|     2008-08-23|     2924|\n",
      "|2016-11-04 00:25:18|     2012-10-09|     1487|\n",
      "|2016-03-14 14:24:12|     2015-03-17|      363|\n",
      "|2016-03-05 18:11:58|     2015-06-18|      261|\n",
      "|2016-05-11 12:36:50|     2015-08-12|      273|\n",
      "|2016-05-15 20:14:07|     2014-06-21|      694|\n",
      "+-------------------+---------------+---------+\n",
      "only showing top 10 rows\n",
      "\n"
     ]
    }
   ],
   "source": [
    "data = data.withColumn('days_diff', datediff('transactionDateTime', 'accountOpenDate'))\n",
    "data.select(['transactionDateTime', 'accountOpenDate', 'days_diff']).show(10)"
   ]
  },
  {
   "cell_type": "markdown",
   "metadata": {},
   "source": [
    "#### 5.2 Time component:\n",
    "Individual aspects of a date-time can be very relevant features for training machine learning models.These include such aspects as day of week, day of year, week of year, month of year, and so on "
   ]
  },
  {
   "cell_type": "code",
   "execution_count": 30,
   "metadata": {},
   "outputs": [],
   "source": [
    "from pyspark.sql.functions import dayofweek, hour"
   ]
  },
  {
   "cell_type": "code",
   "execution_count": 31,
   "metadata": {},
   "outputs": [],
   "source": [
    "data = data.withColumn('dayofweek', hour('transactionDateTime'))\n",
    "data = data.withColumn('hour', hour('transactionDateTime'))"
   ]
  },
  {
   "cell_type": "markdown",
   "metadata": {},
   "source": [
    "#### 5.3 Feature selection:\n",
    "All features aren't equal! It is all about selecting a small subset of features from a large pool of features. We select those attributes which best explain the relationship of an independent variable with the target variable."
   ]
  },
  {
   "cell_type": "code",
   "execution_count": 32,
   "metadata": {},
   "outputs": [],
   "source": [
    "df = data.select('cardPresent', 'expirationDateKeyInMatch', 'merchantCategoryCode', 'posConditionCode','posEntryMode',\n",
    "                 'transactionType', 'isFraud', 'availableMoney', 'currentBalance', 'transactionAmount', 'days_diff',\n",
    "                 'dayofweek', 'hour')"
   ]
  },
  {
   "cell_type": "code",
   "execution_count": 33,
   "metadata": {},
   "outputs": [],
   "source": [
    "import pandas as pd\n",
    "df1 = df.toPandas()"
   ]
  },
  {
   "cell_type": "code",
   "execution_count": 34,
   "metadata": {},
   "outputs": [
    {
     "name": "stdout",
     "output_type": "stream",
     "text": [
      "The overall fraud rate is: 50.000 percent \n"
     ]
    }
   ],
   "source": [
    "features = []\n",
    "threshold = 0.1\n",
    "overall_fraud_rate = df1['isFraud'].mean() * 100\n",
    "print(\"The overall fraud rate is: %5.3f percent \" % overall_fraud_rate)"
   ]
  },
  {
   "cell_type": "code",
   "execution_count": 35,
   "metadata": {},
   "outputs": [
    {
     "name": "stdout",
     "output_type": "stream",
     "text": [
      "transactionType\n",
      "group name: ADDRESS_VERIFICATION, fraud percentage: 26.6979, total number:        427 selected as a feature!\n",
      "group name:             PURCHASE, fraud percentage: 50.4773, total number:      22836\n",
      "group name:             REVERSAL, fraud percentage: 48.5757, total number:        667\n",
      "\n",
      "merchantCategoryCode\n",
      "group name:              airline, fraud percentage: 67.9947, total number:        753 selected as a feature!\n",
      "group name:                 auto, fraud percentage: 44.5946, total number:        592 selected as a feature!\n",
      "group name:          cable/phone, fraud percentage: 0.0000, total number:         19 selected as a feature!\n",
      "group name:        entertainment, fraud percentage: 43.7030, total number:       2128 selected as a feature!\n",
      "group name:             fastfood, fraud percentage: 36.9534, total number:       2790 selected as a feature!\n",
      "group name:                 food, fraud percentage: 46.1538, total number:       2119\n",
      "group name:        food_delivery, fraud percentage: 0.0000, total number:         87 selected as a feature!\n",
      "group name:                 fuel, fraud percentage: 0.0000, total number:        372 selected as a feature!\n",
      "group name:            furniture, fraud percentage: 49.5146, total number:        206\n",
      "group name:                  gym, fraud percentage: 0.0000, total number:         36 selected as a feature!\n",
      "group name:               health, fraud percentage: 21.5686, total number:        408 selected as a feature!\n",
      "group name:               hotels, fraud percentage: 33.1044, total number:        728 selected as a feature!\n",
      "group name:           mobileapps, fraud percentage: 0.0000, total number:        224 selected as a feature!\n",
      "group name:         online_gifts, fraud percentage: 60.8006, total number:       2523 selected as a feature!\n",
      "group name:        online_retail, fraud percentage: 60.7968, total number:       7831 selected as a feature!\n",
      "group name: online_subscriptions, fraud percentage: 0.0000, total number:        171 selected as a feature!\n",
      "group name:        personal care, fraud percentage: 21.8997, total number:        379 selected as a feature!\n",
      "group name:            rideshare, fraud percentage: 61.0203, total number:       2019 selected as a feature!\n",
      "group name:        subscriptions, fraud percentage: 38.3486, total number:        545 selected as a feature!\n",
      "\n",
      "posConditionCode\n",
      "group name:                   01, fraud percentage: 50.8082, total number:      19426\n",
      "group name:                   08, fraud percentage: 45.0048, total number:       4164\n",
      "group name:                   99, fraud percentage: 65.0000, total number:        340 selected as a feature!\n",
      "\n",
      "posEntryMode\n",
      "group name:                   02, fraud percentage: 53.0379, total number:       6386\n",
      "group name:                   05, fraud percentage: 33.0502, total number:       7298 selected as a feature!\n",
      "group name:                   09, fraud percentage: 60.9826, total number:       9119 selected as a feature!\n",
      "group name:                   80, fraud percentage: 51.4100, total number:        461\n",
      "group name:                   90, fraud percentage: 55.2553, total number:        666 selected as a feature!\n",
      "\n",
      "expirationDateKeyInMatch\n",
      "group name:                False, fraud percentage: 49.9895, total number:      23909\n",
      "group name:                 True, fraud percentage: 61.9048, total number:         21 selected as a feature!\n",
      "\n",
      "cardPresent\n",
      "group name:                False, fraud percentage: 56.7390, total number:      15210\n",
      "group name:                 True, fraud percentage: 38.2454, total number:       8720 selected as a feature!\n",
      "\n"
     ]
    }
   ],
   "source": [
    "for col in ['transactionType', 'merchantCategoryCode', 'posConditionCode','posEntryMode', 'expirationDateKeyInMatch','cardPresent']:\n",
    "    print(col)\n",
    "    for group, sub_df in df1.groupby(col):\n",
    "        fraud_rate = sub_df['isFraud'].mean() * 100\n",
    "        if abs((fraud_rate - overall_fraud_rate)/overall_fraud_rate) > threshold and group:\n",
    "            col_name = col + \"_\" + str(group)\n",
    "            df1[col_name] = (df1[col] == group)  # generate dummy columns\n",
    "            features.append(col_name)\n",
    "            print(\"group name: %20s, fraud percentage: %5.4f, total number: %10d selected as a feature!\" % (group, fraud_rate, sub_df.shape[0]))\n",
    "        else:\n",
    "            print(\"group name: %20s, fraud percentage: %5.4f, total number: %10d\" % (group, fraud_rate, sub_df.shape[0]))\n",
    "    print()"
   ]
  },
  {
   "cell_type": "code",
   "execution_count": 36,
   "metadata": {},
   "outputs": [],
   "source": [
    "df2 = df1.drop(['transactionType', 'merchantCategoryCode', 'posConditionCode','posEntryMode', 'expirationDateKeyInMatch', 'cardPresent'], axis = 1)"
   ]
  },
  {
   "cell_type": "code",
   "execution_count": 37,
   "metadata": {},
   "outputs": [
    {
     "data": {
      "text/plain": [
       "Index(['isFraud', 'availableMoney', 'currentBalance', 'transactionAmount',\n",
       "       'days_diff', 'dayofweek', 'hour',\n",
       "       'transactionType_ADDRESS_VERIFICATION', 'merchantCategoryCode_airline',\n",
       "       'merchantCategoryCode_auto', 'merchantCategoryCode_cable/phone',\n",
       "       'merchantCategoryCode_entertainment', 'merchantCategoryCode_fastfood',\n",
       "       'merchantCategoryCode_food_delivery', 'merchantCategoryCode_fuel',\n",
       "       'merchantCategoryCode_gym', 'merchantCategoryCode_health',\n",
       "       'merchantCategoryCode_hotels', 'merchantCategoryCode_mobileapps',\n",
       "       'merchantCategoryCode_online_gifts',\n",
       "       'merchantCategoryCode_online_retail',\n",
       "       'merchantCategoryCode_online_subscriptions',\n",
       "       'merchantCategoryCode_personal care', 'merchantCategoryCode_rideshare',\n",
       "       'merchantCategoryCode_subscriptions', 'posConditionCode_99',\n",
       "       'posEntryMode_05', 'posEntryMode_09', 'posEntryMode_90',\n",
       "       'expirationDateKeyInMatch_True', 'cardPresent_True'],\n",
       "      dtype='object')"
      ]
     },
     "execution_count": 37,
     "metadata": {},
     "output_type": "execute_result"
    }
   ],
   "source": [
    "df2.columns"
   ]
  },
  {
   "cell_type": "code",
   "execution_count": 38,
   "metadata": {},
   "outputs": [],
   "source": [
    "#convert pandas data frame back to pyspark data frame \n",
    "new_df = spark.createDataFrame(df2)"
   ]
  },
  {
   "cell_type": "code",
   "execution_count": 39,
   "metadata": {},
   "outputs": [
    {
     "name": "stdout",
     "output_type": "stream",
     "text": [
      "root\n",
      " |-- isFraud: boolean (nullable = true)\n",
      " |-- availableMoney: double (nullable = true)\n",
      " |-- currentBalance: double (nullable = true)\n",
      " |-- transactionAmount: double (nullable = true)\n",
      " |-- days_diff: long (nullable = true)\n",
      " |-- dayofweek: long (nullable = true)\n",
      " |-- hour: long (nullable = true)\n",
      " |-- transactionType_ADDRESS_VERIFICATION: boolean (nullable = true)\n",
      " |-- merchantCategoryCode_airline: boolean (nullable = true)\n",
      " |-- merchantCategoryCode_auto: boolean (nullable = true)\n",
      " |-- merchantCategoryCode_cable/phone: boolean (nullable = true)\n",
      " |-- merchantCategoryCode_entertainment: boolean (nullable = true)\n",
      " |-- merchantCategoryCode_fastfood: boolean (nullable = true)\n",
      " |-- merchantCategoryCode_food_delivery: boolean (nullable = true)\n",
      " |-- merchantCategoryCode_fuel: boolean (nullable = true)\n",
      " |-- merchantCategoryCode_gym: boolean (nullable = true)\n",
      " |-- merchantCategoryCode_health: boolean (nullable = true)\n",
      " |-- merchantCategoryCode_hotels: boolean (nullable = true)\n",
      " |-- merchantCategoryCode_mobileapps: boolean (nullable = true)\n",
      " |-- merchantCategoryCode_online_gifts: boolean (nullable = true)\n",
      " |-- merchantCategoryCode_online_retail: boolean (nullable = true)\n",
      " |-- merchantCategoryCode_online_subscriptions: boolean (nullable = true)\n",
      " |-- merchantCategoryCode_personal care: boolean (nullable = true)\n",
      " |-- merchantCategoryCode_rideshare: boolean (nullable = true)\n",
      " |-- merchantCategoryCode_subscriptions: boolean (nullable = true)\n",
      " |-- posConditionCode_99: boolean (nullable = true)\n",
      " |-- posEntryMode_05: boolean (nullable = true)\n",
      " |-- posEntryMode_09: boolean (nullable = true)\n",
      " |-- posEntryMode_90: boolean (nullable = true)\n",
      " |-- expirationDateKeyInMatch_True: boolean (nullable = true)\n",
      " |-- cardPresent_True: boolean (nullable = true)\n",
      "\n"
     ]
    }
   ],
   "source": [
    "new_df.printSchema()"
   ]
  },
  {
   "cell_type": "code",
   "execution_count": 40,
   "metadata": {},
   "outputs": [],
   "source": [
    "#convert boolean columns to string type\n",
    "from pyspark.sql.types import StringType\n",
    "\n",
    "bool_cols = [t[0] for t in new_df.dtypes if t[1] == 'boolean']\n",
    "for col in bool_cols:\n",
    "    new_df = new_df.withColumn(col, new_df[col].cast(StringType()))\n",
    "cols = new_df.columns"
   ]
  },
  {
   "cell_type": "code",
   "execution_count": 41,
   "metadata": {},
   "outputs": [
    {
     "name": "stdout",
     "output_type": "stream",
     "text": [
      "root\n",
      " |-- isFraud: string (nullable = true)\n",
      " |-- availableMoney: double (nullable = true)\n",
      " |-- currentBalance: double (nullable = true)\n",
      " |-- transactionAmount: double (nullable = true)\n",
      " |-- days_diff: long (nullable = true)\n",
      " |-- dayofweek: long (nullable = true)\n",
      " |-- hour: long (nullable = true)\n",
      " |-- transactionType_ADDRESS_VERIFICATION: string (nullable = true)\n",
      " |-- merchantCategoryCode_airline: string (nullable = true)\n",
      " |-- merchantCategoryCode_auto: string (nullable = true)\n",
      " |-- merchantCategoryCode_cable/phone: string (nullable = true)\n",
      " |-- merchantCategoryCode_entertainment: string (nullable = true)\n",
      " |-- merchantCategoryCode_fastfood: string (nullable = true)\n",
      " |-- merchantCategoryCode_food_delivery: string (nullable = true)\n",
      " |-- merchantCategoryCode_fuel: string (nullable = true)\n",
      " |-- merchantCategoryCode_gym: string (nullable = true)\n",
      " |-- merchantCategoryCode_health: string (nullable = true)\n",
      " |-- merchantCategoryCode_hotels: string (nullable = true)\n",
      " |-- merchantCategoryCode_mobileapps: string (nullable = true)\n",
      " |-- merchantCategoryCode_online_gifts: string (nullable = true)\n",
      " |-- merchantCategoryCode_online_retail: string (nullable = true)\n",
      " |-- merchantCategoryCode_online_subscriptions: string (nullable = true)\n",
      " |-- merchantCategoryCode_personal care: string (nullable = true)\n",
      " |-- merchantCategoryCode_rideshare: string (nullable = true)\n",
      " |-- merchantCategoryCode_subscriptions: string (nullable = true)\n",
      " |-- posConditionCode_99: string (nullable = true)\n",
      " |-- posEntryMode_05: string (nullable = true)\n",
      " |-- posEntryMode_09: string (nullable = true)\n",
      " |-- posEntryMode_90: string (nullable = true)\n",
      " |-- expirationDateKeyInMatch_True: string (nullable = true)\n",
      " |-- cardPresent_True: string (nullable = true)\n",
      "\n"
     ]
    }
   ],
   "source": [
    "new_df.printSchema()"
   ]
  },
  {
   "cell_type": "markdown",
   "metadata": {},
   "source": [
    "### 6 Build the model\n",
    "#### 6.1 Transforming the data:  \n",
    "We need to do some transformations on the data to use the machine learning algorithms provided by MlLib. The process includes Category Indexing, One-Hot Encoding and VectorAssembler — a feature transformer that merges multiple columns into a vector column."
   ]
  },
  {
   "cell_type": "code",
   "execution_count": 42,
   "metadata": {},
   "outputs": [],
   "source": [
    "from pyspark.ml.feature import StringIndexer, OneHotEncoderEstimator, VectorAssembler, StandardScaler"
   ]
  },
  {
   "cell_type": "code",
   "execution_count": 43,
   "metadata": {},
   "outputs": [],
   "source": [
    "categoricalCols = ['transactionType_ADDRESS_VERIFICATION',\n",
    " 'merchantCategoryCode_airline',\n",
    " 'merchantCategoryCode_cable/phone',\n",
    " 'merchantCategoryCode_entertainment',\n",
    " 'merchantCategoryCode_fastfood',\n",
    " 'merchantCategoryCode_food_delivery',\n",
    " 'merchantCategoryCode_fuel',\n",
    " 'merchantCategoryCode_gym',\n",
    " 'merchantCategoryCode_health',\n",
    " 'merchantCategoryCode_hotels',\n",
    " 'merchantCategoryCode_mobileapps',\n",
    " 'merchantCategoryCode_online_gifts',\n",
    " 'merchantCategoryCode_online_retail',\n",
    " 'merchantCategoryCode_online_subscriptions',\n",
    " 'merchantCategoryCode_personal care',\n",
    " 'merchantCategoryCode_rideshare',\n",
    " 'merchantCategoryCode_subscriptions',\n",
    " 'posConditionCode_99',\n",
    " 'posEntryMode_05',\n",
    " 'posEntryMode_09',\n",
    " 'posEntryMode_90',\n",
    " 'cardPresent_True']\n",
    "#categoricalCols = [t[0] for t in new_df.dtypes if t[1] == 'string']\n",
    "stages = []\n",
    "for categoricalCol in categoricalCols:\n",
    "    stringIndexer = StringIndexer(inputCol = categoricalCol, outputCol = categoricalCol + 'Index')\n",
    "    encoder = OneHotEncoderEstimator(inputCols=[stringIndexer.getOutputCol()], outputCols=[categoricalCol + \"classVec\"])\n",
    "    stages += [stringIndexer, encoder]\n",
    "label_stringIdx = StringIndexer(inputCol = 'isFraud', outputCol = 'label')\n",
    "stages += [label_stringIdx]\n",
    "numericCols = ['availableMoney', 'currentBalance', 'transactionAmount', 'days_diff', 'dayofweek', 'hour']\n",
    "assemblerInputs = [c + \"classVec\" for c in categoricalCols] + numericCols\n",
    "assembler = VectorAssembler(inputCols=assemblerInputs, outputCol= 'vectorized_features')\n",
    "stages += [assembler]\n",
    "scaler = StandardScaler(inputCol = 'vectorized_features', outputCol = 'features')\n",
    "stages += [scaler]\n"
   ]
  },
  {
   "cell_type": "markdown",
   "metadata": {},
   "source": [
    "#### 6.2 Model pipeline:  \n",
    "We use Pipeline to chain multiple Transformers and Estimators together to specify our machine learning workflow. A Pipeline’s stages are specified as an ordered array."
   ]
  },
  {
   "cell_type": "code",
   "execution_count": 44,
   "metadata": {},
   "outputs": [],
   "source": [
    "from pyspark.ml import Pipeline\n",
    "pipeline = Pipeline(stages = stages)\n",
    "pipelineModel = pipeline.fit(new_df)\n",
    "new_df = pipelineModel.transform(new_df)\n",
    "selectedCols = ['label', 'features'] + cols\n",
    "new_df = new_df.select(selectedCols)"
   ]
  },
  {
   "cell_type": "markdown",
   "metadata": {},
   "source": [
    "#### 6.3 Split data:\n",
    "we will split the data randomly with proportion of 70% training set and 30% testing set. "
   ]
  },
  {
   "cell_type": "code",
   "execution_count": 45,
   "metadata": {},
   "outputs": [],
   "source": [
    "train, test = new_df.randomSplit([0.8, 0.2], seed = 2021) "
   ]
  },
  {
   "cell_type": "markdown",
   "metadata": {},
   "source": [
    "#### 6.4 Exploring the classifier models:\n",
    "We are going to explore Logistic regression, Random forest. After obtaining the trained models, we will use them to make predictions on the testing data and evaluate their performance using BinaryClassificationEvaluator. The default metric for the BinaryClassificationEvaluator is areaUnderROC."
   ]
  },
  {
   "cell_type": "markdown",
   "metadata": {},
   "source": [
    "##### 6.4.1 Logistic Regression Model:"
   ]
  },
  {
   "cell_type": "code",
   "execution_count": 46,
   "metadata": {},
   "outputs": [
    {
     "data": {
      "text/html": [
       "<div>\n",
       "<style scoped>\n",
       "    .dataframe tbody tr th:only-of-type {\n",
       "        vertical-align: middle;\n",
       "    }\n",
       "\n",
       "    .dataframe tbody tr th {\n",
       "        vertical-align: top;\n",
       "    }\n",
       "\n",
       "    .dataframe thead th {\n",
       "        text-align: right;\n",
       "    }\n",
       "</style>\n",
       "<table border=\"1\" class=\"dataframe\">\n",
       "  <thead>\n",
       "    <tr style=\"text-align: right;\">\n",
       "      <th></th>\n",
       "      <th>label</th>\n",
       "      <th>features</th>\n",
       "      <th>rawPrediction</th>\n",
       "      <th>prediction</th>\n",
       "      <th>probability</th>\n",
       "    </tr>\n",
       "  </thead>\n",
       "  <tbody>\n",
       "    <tr>\n",
       "      <th>0</th>\n",
       "      <td>0.0</td>\n",
       "      <td>[0.0, 5.728059567679397, 35.5024197122278, 0.0...</td>\n",
       "      <td>[-1.6805946702379728, 1.6805946702379728]</td>\n",
       "      <td>1.0</td>\n",
       "      <td>[0.1570167408004354, 0.8429832591995645]</td>\n",
       "    </tr>\n",
       "    <tr>\n",
       "      <th>1</th>\n",
       "      <td>0.0</td>\n",
       "      <td>[0.0, 5.728059567679397, 35.5024197122278, 3.5...</td>\n",
       "      <td>[-1.0616636525078604, 1.0616636525078604]</td>\n",
       "      <td>1.0</td>\n",
       "      <td>[0.2569916569266277, 0.7430083430733724]</td>\n",
       "    </tr>\n",
       "    <tr>\n",
       "      <th>2</th>\n",
       "      <td>0.0</td>\n",
       "      <td>[0.0, 5.728059567679397, 35.5024197122278, 3.5...</td>\n",
       "      <td>[-1.5511415987297639, 1.5511415987297639]</td>\n",
       "      <td>1.0</td>\n",
       "      <td>[0.17492144699511905, 0.8250785530048809]</td>\n",
       "    </tr>\n",
       "    <tr>\n",
       "      <th>3</th>\n",
       "      <td>0.0</td>\n",
       "      <td>[0.0, 5.728059567679397, 35.5024197122278, 3.5...</td>\n",
       "      <td>[-0.5043844041923862, 0.5043844041923862]</td>\n",
       "      <td>1.0</td>\n",
       "      <td>[0.3765108720961787, 0.6234891279038213]</td>\n",
       "    </tr>\n",
       "    <tr>\n",
       "      <th>4</th>\n",
       "      <td>0.0</td>\n",
       "      <td>[0.0, 5.728059567679397, 35.5024197122278, 3.5...</td>\n",
       "      <td>[-0.8837613150761001, 0.8837613150761001]</td>\n",
       "      <td>1.0</td>\n",
       "      <td>[0.29239894879991335, 0.7076010512000867]</td>\n",
       "    </tr>\n",
       "  </tbody>\n",
       "</table>\n",
       "</div>"
      ],
      "text/plain": [
       "   label                                           features  \\\n",
       "0    0.0  [0.0, 5.728059567679397, 35.5024197122278, 0.0...   \n",
       "1    0.0  [0.0, 5.728059567679397, 35.5024197122278, 3.5...   \n",
       "2    0.0  [0.0, 5.728059567679397, 35.5024197122278, 3.5...   \n",
       "3    0.0  [0.0, 5.728059567679397, 35.5024197122278, 3.5...   \n",
       "4    0.0  [0.0, 5.728059567679397, 35.5024197122278, 3.5...   \n",
       "\n",
       "                               rawPrediction  prediction  \\\n",
       "0  [-1.6805946702379728, 1.6805946702379728]         1.0   \n",
       "1  [-1.0616636525078604, 1.0616636525078604]         1.0   \n",
       "2  [-1.5511415987297639, 1.5511415987297639]         1.0   \n",
       "3  [-0.5043844041923862, 0.5043844041923862]         1.0   \n",
       "4  [-0.8837613150761001, 0.8837613150761001]         1.0   \n",
       "\n",
       "                                 probability  \n",
       "0   [0.1570167408004354, 0.8429832591995645]  \n",
       "1   [0.2569916569266277, 0.7430083430733724]  \n",
       "2  [0.17492144699511905, 0.8250785530048809]  \n",
       "3   [0.3765108720961787, 0.6234891279038213]  \n",
       "4  [0.29239894879991335, 0.7076010512000867]  "
      ]
     },
     "execution_count": 46,
     "metadata": {},
     "output_type": "execute_result"
    }
   ],
   "source": [
    "from pyspark.ml.classification import LogisticRegression\n",
    "lr = LogisticRegression(featuresCol = 'features', labelCol = 'label')\n",
    "lrModel = lr.fit(train)\n",
    "lrPredictions = lrModel.transform(test)\n",
    "lrPredictions.select('label', 'features', 'rawPrediction', 'prediction', 'probability').toPandas().head(5)"
   ]
  },
  {
   "cell_type": "markdown",
   "metadata": {},
   "source": [
    "##### 6.4.2 Model evaluation:"
   ]
  },
  {
   "cell_type": "code",
   "execution_count": 47,
   "metadata": {},
   "outputs": [],
   "source": [
    "from pyspark.ml.evaluation import BinaryClassificationEvaluator\n",
    "lrEvaluator = BinaryClassificationEvaluator(rawPredictionCol = 'prediction', labelCol = 'label')"
   ]
  },
  {
   "cell_type": "code",
   "execution_count": 48,
   "metadata": {},
   "outputs": [
    {
     "name": "stdout",
     "output_type": "stream",
     "text": [
      "AUC:  0.6915613531084518\n"
     ]
    }
   ],
   "source": [
    "print('AUC: ', lrEvaluator.evaluate(lrPredictions))"
   ]
  },
  {
   "cell_type": "code",
   "execution_count": 49,
   "metadata": {},
   "outputs": [
    {
     "data": {
      "image/png": "[encoded data removed]",
      "text/plain": [
       "<Figure size 432x288 with 1 Axes>"
      ]
     },
     "metadata": {},
     "output_type": "display_data"
    },
    {
     "name": "stdout",
     "output_type": "stream",
     "text": [
      "Training set areaUnderROC: 0.7415675112953799\n"
     ]
    }
   ],
   "source": [
    "trainingSummary = lrModel.summary\n",
    "roc = trainingSummary.roc.toPandas()\n",
    "plt.plot(roc['FPR'],roc['TPR'])\n",
    "plt.ylabel('False Positive Rate')\n",
    "plt.xlabel('True Positive Rate')\n",
    "plt.title('ROC Curve')\n",
    "plt.show()\n",
    "print('Training set areaUnderROC: ' + str(trainingSummary.areaUnderROC))"
   ]
  },
  {
   "cell_type": "code",
   "execution_count": 50,
   "metadata": {},
   "outputs": [
    {
     "name": "stdout",
     "output_type": "stream",
     "text": [
      "Accuracy :  0.6918726434855467\n"
     ]
    }
   ],
   "source": [
    "accuracy = lrPredictions.filter(lrPredictions.label == lrPredictions.prediction).count() / float(lrPredictions.count())\n",
    "print(\"Accuracy : \",accuracy)"
   ]
  },
  {
   "cell_type": "markdown",
   "metadata": {},
   "source": [
    "##### 6.4.3 Random Forest Model:"
   ]
  },
  {
   "cell_type": "code",
   "execution_count": 51,
   "metadata": {},
   "outputs": [],
   "source": [
    "from pyspark.ml.classification import RandomForestClassifier\n",
    "rf = RandomForestClassifier(featuresCol = 'features', labelCol = 'label')\n",
    "rfModel = rf.fit(train)\n",
    "rfPredictions = rfModel.transform(test)"
   ]
  },
  {
   "cell_type": "code",
   "execution_count": 52,
   "metadata": {},
   "outputs": [
    {
     "data": {
      "text/html": [
       "<div>\n",
       "<style scoped>\n",
       "    .dataframe tbody tr th:only-of-type {\n",
       "        vertical-align: middle;\n",
       "    }\n",
       "\n",
       "    .dataframe tbody tr th {\n",
       "        vertical-align: top;\n",
       "    }\n",
       "\n",
       "    .dataframe thead th {\n",
       "        text-align: right;\n",
       "    }\n",
       "</style>\n",
       "<table border=\"1\" class=\"dataframe\">\n",
       "  <thead>\n",
       "    <tr style=\"text-align: right;\">\n",
       "      <th></th>\n",
       "      <th>label</th>\n",
       "      <th>features</th>\n",
       "      <th>rawPrediction</th>\n",
       "      <th>prediction</th>\n",
       "      <th>probability</th>\n",
       "    </tr>\n",
       "  </thead>\n",
       "  <tbody>\n",
       "    <tr>\n",
       "      <th>0</th>\n",
       "      <td>0.0</td>\n",
       "      <td>[0.0, 5.728059567679397, 35.5024197122278, 0.0...</td>\n",
       "      <td>[6.713366176302129, 13.286633823697874]</td>\n",
       "      <td>1.0</td>\n",
       "      <td>[0.3356683088151064, 0.6643316911848937]</td>\n",
       "    </tr>\n",
       "    <tr>\n",
       "      <th>1</th>\n",
       "      <td>0.0</td>\n",
       "      <td>[0.0, 5.728059567679397, 35.5024197122278, 3.5...</td>\n",
       "      <td>[7.75318243169276, 12.246817568307247]</td>\n",
       "      <td>1.0</td>\n",
       "      <td>[0.38765912158463783, 0.6123408784153621]</td>\n",
       "    </tr>\n",
       "    <tr>\n",
       "      <th>2</th>\n",
       "      <td>0.0</td>\n",
       "      <td>[0.0, 5.728059567679397, 35.5024197122278, 3.5...</td>\n",
       "      <td>[6.050330571630797, 13.949669428369203]</td>\n",
       "      <td>1.0</td>\n",
       "      <td>[0.3025165285815398, 0.6974834714184601]</td>\n",
       "    </tr>\n",
       "    <tr>\n",
       "      <th>3</th>\n",
       "      <td>0.0</td>\n",
       "      <td>[0.0, 5.728059567679397, 35.5024197122278, 3.5...</td>\n",
       "      <td>[9.043640500055318, 10.956359499944682]</td>\n",
       "      <td>1.0</td>\n",
       "      <td>[0.4521820250027659, 0.5478179749972341]</td>\n",
       "    </tr>\n",
       "    <tr>\n",
       "      <th>4</th>\n",
       "      <td>0.0</td>\n",
       "      <td>[0.0, 5.728059567679397, 35.5024197122278, 3.5...</td>\n",
       "      <td>[7.717123768587963, 12.282876231412041]</td>\n",
       "      <td>1.0</td>\n",
       "      <td>[0.38585618842939806, 0.6141438115706019]</td>\n",
       "    </tr>\n",
       "  </tbody>\n",
       "</table>\n",
       "</div>"
      ],
      "text/plain": [
       "   label                                           features  \\\n",
       "0    0.0  [0.0, 5.728059567679397, 35.5024197122278, 0.0...   \n",
       "1    0.0  [0.0, 5.728059567679397, 35.5024197122278, 3.5...   \n",
       "2    0.0  [0.0, 5.728059567679397, 35.5024197122278, 3.5...   \n",
       "3    0.0  [0.0, 5.728059567679397, 35.5024197122278, 3.5...   \n",
       "4    0.0  [0.0, 5.728059567679397, 35.5024197122278, 3.5...   \n",
       "\n",
       "                             rawPrediction  prediction  \\\n",
       "0  [6.713366176302129, 13.286633823697874]         1.0   \n",
       "1   [7.75318243169276, 12.246817568307247]         1.0   \n",
       "2  [6.050330571630797, 13.949669428369203]         1.0   \n",
       "3  [9.043640500055318, 10.956359499944682]         1.0   \n",
       "4  [7.717123768587963, 12.282876231412041]         1.0   \n",
       "\n",
       "                                 probability  \n",
       "0   [0.3356683088151064, 0.6643316911848937]  \n",
       "1  [0.38765912158463783, 0.6123408784153621]  \n",
       "2   [0.3025165285815398, 0.6974834714184601]  \n",
       "3   [0.4521820250027659, 0.5478179749972341]  \n",
       "4  [0.38585618842939806, 0.6141438115706019]  "
      ]
     },
     "execution_count": 52,
     "metadata": {},
     "output_type": "execute_result"
    }
   ],
   "source": [
    "rfPredictions.select('label', 'features', 'rawPrediction', 'prediction', 'probability').toPandas().head(5)"
   ]
  },
  {
   "cell_type": "code",
   "execution_count": 53,
   "metadata": {},
   "outputs": [],
   "source": [
    "from pyspark.ml.evaluation import BinaryClassificationEvaluator\n",
    "rfEvaluator = BinaryClassificationEvaluator(rawPredictionCol = 'prediction', labelCol = 'label', metricName= 'areaUnderROC')"
   ]
  },
  {
   "cell_type": "code",
   "execution_count": 54,
   "metadata": {},
   "outputs": [
    {
     "name": "stdout",
     "output_type": "stream",
     "text": [
      "AUC:  0.6876130052115138\n"
     ]
    }
   ],
   "source": [
    "print('AUC: ', rfEvaluator.evaluate(rfPredictions))"
   ]
  },
  {
   "cell_type": "markdown",
   "metadata": {},
   "source": [
    "##### 6.4.4 GBTClassifier Model:\n"
   ]
  },
  {
   "cell_type": "code",
   "execution_count": 55,
   "metadata": {},
   "outputs": [],
   "source": [
    "from pyspark.ml.classification import GBTClassifier\n",
    "gbt = GBTClassifier(featuresCol = 'features', labelCol = 'label')\n",
    "gbtModel = gbt.fit(train)\n",
    "gbtPredictions = gbtModel.transform(test)"
   ]
  },
  {
   "cell_type": "code",
   "execution_count": 56,
   "metadata": {},
   "outputs": [],
   "source": [
    "from pyspark.ml.evaluation import BinaryClassificationEvaluator\n",
    "gbtEvaluator = BinaryClassificationEvaluator(rawPredictionCol = 'prediction', labelCol = 'label')"
   ]
  },
  {
   "cell_type": "code",
   "execution_count": 57,
   "metadata": {},
   "outputs": [
    {
     "name": "stdout",
     "output_type": "stream",
     "text": [
      "AUC:  0.7044709561357673\n"
     ]
    }
   ],
   "source": [
    "print('AUC: ', gbtEvaluator.evaluate(gbtPredictions))"
   ]
  },
  {
   "cell_type": "markdown",
   "metadata": {},
   "source": [
    "##### 6.4.5 Hyperparameter Tuning and Cross Validation:\n",
    "Gradient-Boosted Tree achieved the best results, we will try tuning this model with the ParamGridBuilder and the CrossValidator. Before that we can use explainParams() to print a list of all params and their definitions to understand what params available for tuning."
   ]
  },
  {
   "cell_type": "code",
   "execution_count": 58,
   "metadata": {},
   "outputs": [
    {
     "name": "stdout",
     "output_type": "stream",
     "text": [
      "cacheNodeIds: If false, the algorithm will pass trees to executors to match instances with nodes. If true, the algorithm will cache node IDs for each instance. Caching can speed up training of deeper trees. Users can set how often should the cache be checkpointed or disable it by setting checkpointInterval. (default: False)\n",
      "checkpointInterval: set checkpoint interval (>= 1) or disable checkpoint (-1). E.g. 10 means that the cache will get checkpointed every 10 iterations. Note: this setting will be ignored if the checkpoint directory is not set in the SparkContext. (default: 10)\n",
      "featureSubsetStrategy: The number of features to consider for splits at each tree node. Supported options: 'auto' (choose automatically for task: If numTrees == 1, set to 'all'. If numTrees > 1 (forest), set to 'sqrt' for classification and to 'onethird' for regression), 'all' (use all features), 'onethird' (use 1/3 of the features), 'sqrt' (use sqrt(number of features)), 'log2' (use log2(number of features)), 'n' (when n is in the range (0, 1.0], use n * number of features. When n is in the range (1, number of features), use n features). default = 'auto' (default: all)\n",
      "featuresCol: features column name. (default: features, current: features)\n",
      "labelCol: label column name. (default: label, current: label)\n",
      "lossType: Loss function which GBT tries to minimize (case-insensitive). Supported options: logistic (default: logistic)\n",
      "maxBins: Max number of bins for discretizing continuous features.  Must be >=2 and >= number of categories for any categorical feature. (default: 32)\n",
      "maxDepth: Maximum depth of the tree. (>= 0) E.g., depth 0 means 1 leaf node; depth 1 means 1 internal node + 2 leaf nodes. (default: 5)\n",
      "maxIter: max number of iterations (>= 0). (default: 20)\n",
      "maxMemoryInMB: Maximum memory in MB allocated to histogram aggregation. If too small, then 1 node will be split per iteration, and its aggregates may exceed this size. (default: 256)\n",
      "minInfoGain: Minimum information gain for a split to be considered at a tree node. (default: 0.0)\n",
      "minInstancesPerNode: Minimum number of instances each child must have after split. If a split causes the left or right child to have fewer than minInstancesPerNode, the split will be discarded as invalid. Should be >= 1. (default: 1)\n",
      "predictionCol: prediction column name. (default: prediction)\n",
      "seed: random seed. (default: 2757892839498493094)\n",
      "stepSize: Step size (a.k.a. learning rate) in interval (0, 1] for shrinking the contribution of each estimator. (default: 0.1)\n",
      "subsamplingRate: Fraction of the training data used for learning each decision tree, in range (0, 1]. (default: 1.0)\n"
     ]
    }
   ],
   "source": [
    "print(gbt.explainParams())"
   ]
  },
  {
   "cell_type": "code",
   "execution_count": 59,
   "metadata": {},
   "outputs": [
    {
     "data": {
      "text/plain": [
       "0.7059436989408644"
      ]
     },
     "execution_count": 59,
     "metadata": {},
     "output_type": "execute_result"
    }
   ],
   "source": [
    "from pyspark.ml.tuning import ParamGridBuilder, CrossValidator\n",
    "paramGrid = (ParamGridBuilder()\n",
    "             .addGrid(gbt.maxDepth, [2, 4, 6])\n",
    "             .addGrid(gbt.maxBins, [20, 60])\n",
    "             .addGrid(gbt.maxIter, [10, 20])\n",
    "             .build())\n",
    "cv = CrossValidator(estimator=gbt, estimatorParamMaps=paramGrid, evaluator=gbtEvaluator, numFolds=5)\n",
    "# Run cross validations. This can take about 6 minutes since it is training over 20 trees!\n",
    "cvModel = cv.fit(train)\n",
    "predictions = cvModel.transform(test)\n",
    "gbtEvaluator.evaluate(predictions)"
   ]
  },
  {
   "cell_type": "markdown",
   "metadata": {},
   "source": [
    "### 7 Conclusion:"
   ]
  },
  {
   "cell_type": "markdown",
   "metadata": {},
   "source": [
    "Gradient-Boosted Tree performs better than logistic regression and random forest (a larger AUC value) in our data set to detect credit card fraud . In the future, it is possible to further test on other models, and adjust some hyperparameters to fine tune the model."
   ]
  }
 ],
 "metadata": {
  "kernelspec": {
   "display_name": "Python 3",
   "language": "python",
   "name": "python3"
  },
  "language_info": {
   "codemirror_mode": {
    "name": "ipython",
    "version": 3
   },
   "file_extension": ".py",
   "mimetype": "text/x-python",
   "name": "python",
   "nbconvert_exporter": "python",
   "pygments_lexer": "ipython3",
   "version": "3.7.6"
  },
  "toc": {
   "base_numbering": 1,
   "nav_menu": {},
   "number_sections": false,
   "sideBar": true,
   "skip_h1_title": false,
   "title_cell": "Table of Contents",
   "title_sidebar": "Contents",
   "toc_cell": false,
   "toc_position": {},
   "toc_section_display": true,
   "toc_window_display": true
  },
  "varInspector": {
   "cols": {
    "lenName": 16,
    "lenType": 16,
    "lenVar": 40
   },
   "kernels_config": {
    "python": {
     "delete_cmd_postfix": "",
     "delete_cmd_prefix": "del ",
     "library": "var_list.py",
     "varRefreshCmd": "print(var_dic_list())"
    },
    "r": {
     "delete_cmd_postfix": ") ",
     "delete_cmd_prefix": "rm(",
     "library": "var_list.r",
     "varRefreshCmd": "cat(var_dic_list()) "
    }
   },
   "types_to_exclude": [
    "module",
    "function",
    "builtin_function_or_method",
    "instance",
    "_Feature"
   ],
   "window_display": false
  }
 },
 "nbformat": 4,
 "nbformat_minor": 4
}
